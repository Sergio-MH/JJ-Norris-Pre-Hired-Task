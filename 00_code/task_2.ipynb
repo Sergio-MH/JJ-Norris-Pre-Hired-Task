{
 "cells": [
  {
   "cell_type": "markdown",
   "metadata": {},
   "source": [
    "# Task 2: Matrix Properties\n",
    "### Pre-Hire Task\n",
    "### Professor Jordan J. Norris\n",
    "**24/05/2022**\n",
    "\n",
    "**Presented by:** Sergio Andrés Moreno Huérfano"
   ]
  },
  {
   "cell_type": "code",
   "execution_count": null,
   "metadata": {},
   "outputs": [],
   "source": [
    "# Check the given  matrix is Diagonally Dominant Matrix or not.\n",
    "\n",
    "def isDDM(m, n) :\n",
    " \n",
    "    # for each row\n",
    "    for i in range(0, n) :        \n",
    "     \n",
    "        # for each column, finding sum of each row.\n",
    "        sum = 0\n",
    "        for j in range(0, n) :\n",
    "            sum = sum + abs(m[i][j])    \n",
    " \n",
    "        # removing the diagonal element.\n",
    "        sum = sum - abs(m[i][i])\n",
    " \n",
    "        # checking if diagonal element is less than sum of non-diagonal element.\n",
    "        if (abs(m[i][i]) < sum) :\n",
    "            return False\n",
    " \n",
    "    return True\n",
    " \n",
    "# Driver Code\n",
    "n = 3\n",
    "m = [[ 3, -2, 1 ],\n",
    "    [ 1, -3, 2 ],\n",
    "    [ -1, 2, 4 ]]\n",
    " \n",
    "if((isDDM(m, n))) :\n",
    "    print (\"True\")\n",
    "else :\n",
    "    print (\"False\")"
   ]
  },
  {
   "cell_type": "code",
   "execution_count": null,
   "metadata": {},
   "outputs": [],
   "source": [
    "import numpy as np\n",
    " \n",
    "dim = int(input(\"Enter the dimension of your square matrix:\\n \"))\n",
    " \n",
    "A = np.zeros((dim,dim)) #initialize an nxn matrix of the desired dimension\n",
    " \n",
    "for i in range(dim):\n",
    "    for j in range(dim):\n",
    "        number = float(input(\"Enter your matrix entry Column by Column, Row by Row: \\n\"))\n",
    "        A[i][j] = number\n",
    " \n",
    "print A #allows you to visually check your printed matrix\n",
    " \n",
    "Dim_rxc = A.shape \n",
    " \n",
    "rows = Dim_rxc[0]\n",
    " \n",
    "col = Dim_rxc[1]\n",
    " \n",
    "sum=0\n",
    "diag=0\n",
    "dom = 0\n",
    " \n",
    "if(rows==col):      #Checking for a square matrix\n",
    "    for i in range(0,rows):\n",
    "        for j in range(0,col):\n",
    "            sum+=abs(A[i,j])\n",
    "            diag=abs(A[i,i])\n",
    " \n",
    "            non_diag=sum-diag\n",
    " \n",
    "            if(non_diag > diag):\n",
    "                break\n",
    "                print 'Not Strictly diagonally dominant'\n",
    "            else:\n",
    "                dom +=1\n",
    " \n",
    "else:\n",
    "    print 'not a square matrix'\n",
    " \n",
    "if(dom==dim):\n",
    "    print 'Is strictly diagonally dominant'\n",
    "else:\n",
    "    print 'Is not strictly diagonally dominant'"
   ]
  }
 ],
 "metadata": {
  "kernelspec": {
   "display_name": "Python 3",
   "language": "python",
   "name": "python3"
  },
  "language_info": {
   "codemirror_mode": {
    "name": "ipython",
    "version": 3
   },
   "file_extension": ".py",
   "mimetype": "text/x-python",
   "name": "python",
   "nbconvert_exporter": "python",
   "pygments_lexer": "ipython3",
   "version": "3.8.3"
  }
 },
 "nbformat": 4,
 "nbformat_minor": 4
}
